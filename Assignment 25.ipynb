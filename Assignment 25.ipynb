{
 "cells": [
  {
   "cell_type": "markdown",
   "id": "de2a3d1f",
   "metadata": {},
   "source": [
    "# Q1. What are the three measures of central tendency?"
   ]
  },
  {
   "cell_type": "markdown",
   "id": "7dec374f",
   "metadata": {},
   "source": [
    "# ans.. 1 ..mean \n",
    "# 2.. median \n",
    "# 3. mod"
   ]
  },
  {
   "cell_type": "markdown",
   "id": "78d12cb7",
   "metadata": {},
   "source": [
    "# Q2. What is the difference between the mean, median, and mode? How are they used to measure the central tendency of a dataset?"
   ]
  },
  {
   "cell_type": "markdown",
   "id": "0637d950",
   "metadata": {},
   "source": [
    "# ans..mean= mean basicaly is the sum of all tream  and divied by the total number of points\n",
    "# median = median is used to the effect of out- layer \n",
    "# mode= mode is nothing as the maximum time accoring the elment \n",
    " # alll used to the data numercaliy anlasis  \n"
   ]
  },
  {
   "cell_type": "markdown",
   "id": "c722bb7f",
   "metadata": {},
   "source": [
    "# Q3. Measure the three measures of central tendency for the given height data:"
   ]
  },
  {
   "cell_type": "code",
   "execution_count": 1,
   "id": "3040d224",
   "metadata": {},
   "outputs": [],
   "source": [
    "import numpy as np"
   ]
  },
  {
   "cell_type": "code",
   "execution_count": 3,
   "id": "da5bec5b",
   "metadata": {},
   "outputs": [],
   "source": [
    "t=[178,177,176,177,178.2,178,175,179,180,175,178.9,176.2,177,172.5,178,176.5]"
   ]
  },
  {
   "cell_type": "code",
   "execution_count": 4,
   "id": "46a6afec",
   "metadata": {},
   "outputs": [
    {
     "data": {
      "text/plain": [
       "177.01875"
      ]
     },
     "execution_count": 4,
     "metadata": {},
     "output_type": "execute_result"
    }
   ],
   "source": [
    "np.mean(t)"
   ]
  },
  {
   "cell_type": "code",
   "execution_count": 5,
   "id": "6a12dc4f",
   "metadata": {},
   "outputs": [
    {
     "data": {
      "text/plain": [
       "177.0"
      ]
     },
     "execution_count": 5,
     "metadata": {},
     "output_type": "execute_result"
    }
   ],
   "source": [
    "np.median (t)"
   ]
  },
  {
   "cell_type": "code",
   "execution_count": 8,
   "id": "68fd2e9a",
   "metadata": {},
   "outputs": [],
   "source": [
    "from scipy  import stats"
   ]
  },
  {
   "cell_type": "code",
   "execution_count": 9,
   "id": "050217f6",
   "metadata": {},
   "outputs": [
    {
     "name": "stderr",
     "output_type": "stream",
     "text": [
      "C:\\Users\\himan\\AppData\\Local\\Temp\\ipykernel_17220\\2267931513.py:1: FutureWarning: Unlike other reduction functions (e.g. `skew`, `kurtosis`), the default behavior of `mode` typically preserves the axis it acts along. In SciPy 1.11.0, this behavior will change: the default value of `keepdims` will become False, the `axis` over which the statistic is taken will be eliminated, and the value None will no longer be accepted. Set `keepdims` to True or False to avoid this warning.\n",
      "  stats.mode(t)\n"
     ]
    },
    {
     "data": {
      "text/plain": [
       "ModeResult(mode=array([177.]), count=array([3]))"
      ]
     },
     "execution_count": 9,
     "metadata": {},
     "output_type": "execute_result"
    }
   ],
   "source": [
    "stats.mode(t)"
   ]
  },
  {
   "cell_type": "markdown",
   "id": "4d4881e1",
   "metadata": {},
   "source": [
    "# Q4. Find the standard deviation for the given data:"
   ]
  },
  {
   "cell_type": "code",
   "execution_count": 11,
   "id": "024fdbef",
   "metadata": {},
   "outputs": [],
   "source": [
    "h=[178,177,176,177,178.2,178,175,179,180,175,178.9,176.2,177,172.5,178,176.5]"
   ]
  },
  {
   "cell_type": "code",
   "execution_count": 12,
   "id": "335ecc69",
   "metadata": {},
   "outputs": [
    {
     "data": {
      "text/plain": [
       "1.7885814036548633"
      ]
     },
     "execution_count": 12,
     "metadata": {},
     "output_type": "execute_result"
    }
   ],
   "source": [
    "np.std(t)"
   ]
  },
  {
   "cell_type": "markdown",
   "id": "7183938b",
   "metadata": {},
   "source": [
    "# Q5. How are measures of dispersion such as range, variance, and standard deviation used to describe the spread of a dataset? Provide an example."
   ]
  },
  {
   "cell_type": "markdown",
   "id": "2da63129",
   "metadata": {},
   "source": [
    "# measure of dispersion such as range ,variance and standard deviation are used to describe the spread of a dataset by quantifying how much the data values deviate from a cental value , such as the mean or the median .these measure help to understand how homogeneous or heterogeneous the data is and how reliable the central value is as a summary of the data.\n"
   ]
  },
  {
   "cell_type": "markdown",
   "id": "01afde67",
   "metadata": {},
   "source": [
    "# Q6. What is a Venn diagram?"
   ]
  },
  {
   "cell_type": "markdown",
   "id": "f71706ba",
   "metadata": {},
   "source": [
    "# ans.. venn digram is the grahpic aproch for study the 2 or more data set study in one time  "
   ]
  },
  {
   "cell_type": "markdown",
   "id": "17313097",
   "metadata": {},
   "source": [
    "# Q7. For the two given sets A = (2,3,4,5,6,7) & B = (0,2,6,8,10). Find:"
   ]
  },
  {
   "cell_type": "code",
   "execution_count": 13,
   "id": "19a1f790",
   "metadata": {},
   "outputs": [],
   "source": [
    "A={2,3,4,5,6,7}\n",
    "B={0,2,6,8,10}"
   ]
  },
  {
   "cell_type": "code",
   "execution_count": 14,
   "id": "22fb58da",
   "metadata": {},
   "outputs": [
    {
     "data": {
      "text/plain": [
       "{0, 2, 3, 4, 5, 6, 7, 8, 10}"
      ]
     },
     "execution_count": 14,
     "metadata": {},
     "output_type": "execute_result"
    }
   ],
   "source": [
    "# union \n",
    "A|B"
   ]
  },
  {
   "cell_type": "code",
   "execution_count": 15,
   "id": "8b2650d3",
   "metadata": {},
   "outputs": [
    {
     "data": {
      "text/plain": [
       "{2, 6}"
      ]
     },
     "execution_count": 15,
     "metadata": {},
     "output_type": "execute_result"
    }
   ],
   "source": [
    "# intersecation \n",
    "A&B"
   ]
  },
  {
   "cell_type": "markdown",
   "id": "c3a36c66",
   "metadata": {},
   "source": [
    "# Q8. What do you understand about skewness in data?"
   ]
  },
  {
   "cell_type": "markdown",
   "id": "995b26ad",
   "metadata": {},
   "source": [
    "# ans.. Skewness is a measure of the asymmetry of a distribution . A distribution is asymmetrical when its left and right side are not mirror image "
   ]
  },
  {
   "cell_type": "markdown",
   "id": "96ab045b",
   "metadata": {},
   "source": [
    "# Q9. If a data is right skewed then what will be the position of median with respect to mean?"
   ]
  },
  {
   "cell_type": "markdown",
   "id": "cdd2cdaa",
   "metadata": {},
   "source": [
    "# ans.. Dtata is the right skewed  the relationship b/w mean median \n",
    "# mead>=median>=mode"
   ]
  },
  {
   "cell_type": "markdown",
   "id": "0f08bf01",
   "metadata": {},
   "source": [
    "# Q10. Explain the difference between covariance and correlation. How are these measures used in statistical analysis?"
   ]
  },
  {
   "cell_type": "markdown",
   "id": "ea3b950e",
   "metadata": {},
   "source": [
    "# ans.. covariance is an indicator of how two random variable change concerning each other corrrelation ,on the other hand ,measure the strenght of this relationship"
   ]
  },
  {
   "cell_type": "code",
   "execution_count": 16,
   "id": "fbd5917b",
   "metadata": {},
   "outputs": [],
   "source": [
    "import seaborn as sns"
   ]
  },
  {
   "cell_type": "code",
   "execution_count": 17,
   "id": "c7272c2c",
   "metadata": {},
   "outputs": [],
   "source": [
    "tips=sns.load_dataset('tips')"
   ]
  },
  {
   "cell_type": "code",
   "execution_count": 19,
   "id": "d64deded",
   "metadata": {},
   "outputs": [
    {
     "data": {
      "text/html": [
       "<div>\n",
       "<style scoped>\n",
       "    .dataframe tbody tr th:only-of-type {\n",
       "        vertical-align: middle;\n",
       "    }\n",
       "\n",
       "    .dataframe tbody tr th {\n",
       "        vertical-align: top;\n",
       "    }\n",
       "\n",
       "    .dataframe thead th {\n",
       "        text-align: right;\n",
       "    }\n",
       "</style>\n",
       "<table border=\"1\" class=\"dataframe\">\n",
       "  <thead>\n",
       "    <tr style=\"text-align: right;\">\n",
       "      <th></th>\n",
       "      <th>total_bill</th>\n",
       "      <th>tip</th>\n",
       "      <th>sex</th>\n",
       "      <th>smoker</th>\n",
       "      <th>day</th>\n",
       "      <th>time</th>\n",
       "      <th>size</th>\n",
       "    </tr>\n",
       "  </thead>\n",
       "  <tbody>\n",
       "    <tr>\n",
       "      <th>0</th>\n",
       "      <td>16.99</td>\n",
       "      <td>1.01</td>\n",
       "      <td>Female</td>\n",
       "      <td>No</td>\n",
       "      <td>Sun</td>\n",
       "      <td>Dinner</td>\n",
       "      <td>2</td>\n",
       "    </tr>\n",
       "    <tr>\n",
       "      <th>1</th>\n",
       "      <td>10.34</td>\n",
       "      <td>1.66</td>\n",
       "      <td>Male</td>\n",
       "      <td>No</td>\n",
       "      <td>Sun</td>\n",
       "      <td>Dinner</td>\n",
       "      <td>3</td>\n",
       "    </tr>\n",
       "    <tr>\n",
       "      <th>2</th>\n",
       "      <td>21.01</td>\n",
       "      <td>3.50</td>\n",
       "      <td>Male</td>\n",
       "      <td>No</td>\n",
       "      <td>Sun</td>\n",
       "      <td>Dinner</td>\n",
       "      <td>3</td>\n",
       "    </tr>\n",
       "    <tr>\n",
       "      <th>3</th>\n",
       "      <td>23.68</td>\n",
       "      <td>3.31</td>\n",
       "      <td>Male</td>\n",
       "      <td>No</td>\n",
       "      <td>Sun</td>\n",
       "      <td>Dinner</td>\n",
       "      <td>2</td>\n",
       "    </tr>\n",
       "    <tr>\n",
       "      <th>4</th>\n",
       "      <td>24.59</td>\n",
       "      <td>3.61</td>\n",
       "      <td>Female</td>\n",
       "      <td>No</td>\n",
       "      <td>Sun</td>\n",
       "      <td>Dinner</td>\n",
       "      <td>4</td>\n",
       "    </tr>\n",
       "  </tbody>\n",
       "</table>\n",
       "</div>"
      ],
      "text/plain": [
       "   total_bill   tip     sex smoker  day    time  size\n",
       "0       16.99  1.01  Female     No  Sun  Dinner     2\n",
       "1       10.34  1.66    Male     No  Sun  Dinner     3\n",
       "2       21.01  3.50    Male     No  Sun  Dinner     3\n",
       "3       23.68  3.31    Male     No  Sun  Dinner     2\n",
       "4       24.59  3.61  Female     No  Sun  Dinner     4"
      ]
     },
     "execution_count": 19,
     "metadata": {},
     "output_type": "execute_result"
    }
   ],
   "source": [
    "tips.head()"
   ]
  },
  {
   "cell_type": "code",
   "execution_count": 20,
   "id": "4528219d",
   "metadata": {},
   "outputs": [
    {
     "name": "stderr",
     "output_type": "stream",
     "text": [
      "C:\\Users\\himan\\AppData\\Local\\Temp\\ipykernel_17220\\1117630634.py:1: FutureWarning: The default value of numeric_only in DataFrame.cov is deprecated. In a future version, it will default to False. Select only valid columns or specify the value of numeric_only to silence this warning.\n",
      "  tips.cov()\n"
     ]
    },
    {
     "data": {
      "text/html": [
       "<div>\n",
       "<style scoped>\n",
       "    .dataframe tbody tr th:only-of-type {\n",
       "        vertical-align: middle;\n",
       "    }\n",
       "\n",
       "    .dataframe tbody tr th {\n",
       "        vertical-align: top;\n",
       "    }\n",
       "\n",
       "    .dataframe thead th {\n",
       "        text-align: right;\n",
       "    }\n",
       "</style>\n",
       "<table border=\"1\" class=\"dataframe\">\n",
       "  <thead>\n",
       "    <tr style=\"text-align: right;\">\n",
       "      <th></th>\n",
       "      <th>total_bill</th>\n",
       "      <th>tip</th>\n",
       "      <th>size</th>\n",
       "    </tr>\n",
       "  </thead>\n",
       "  <tbody>\n",
       "    <tr>\n",
       "      <th>total_bill</th>\n",
       "      <td>79.252939</td>\n",
       "      <td>8.323502</td>\n",
       "      <td>5.065983</td>\n",
       "    </tr>\n",
       "    <tr>\n",
       "      <th>tip</th>\n",
       "      <td>8.323502</td>\n",
       "      <td>1.914455</td>\n",
       "      <td>0.643906</td>\n",
       "    </tr>\n",
       "    <tr>\n",
       "      <th>size</th>\n",
       "      <td>5.065983</td>\n",
       "      <td>0.643906</td>\n",
       "      <td>0.904591</td>\n",
       "    </tr>\n",
       "  </tbody>\n",
       "</table>\n",
       "</div>"
      ],
      "text/plain": [
       "            total_bill       tip      size\n",
       "total_bill   79.252939  8.323502  5.065983\n",
       "tip           8.323502  1.914455  0.643906\n",
       "size          5.065983  0.643906  0.904591"
      ]
     },
     "execution_count": 20,
     "metadata": {},
     "output_type": "execute_result"
    }
   ],
   "source": [
    "tips.cov()"
   ]
  },
  {
   "cell_type": "code",
   "execution_count": 21,
   "id": "62032080",
   "metadata": {},
   "outputs": [
    {
     "name": "stderr",
     "output_type": "stream",
     "text": [
      "C:\\Users\\himan\\AppData\\Local\\Temp\\ipykernel_17220\\3825555837.py:1: FutureWarning: The default value of numeric_only in DataFrame.corr is deprecated. In a future version, it will default to False. Select only valid columns or specify the value of numeric_only to silence this warning.\n",
      "  tips.corr()\n"
     ]
    },
    {
     "data": {
      "text/html": [
       "<div>\n",
       "<style scoped>\n",
       "    .dataframe tbody tr th:only-of-type {\n",
       "        vertical-align: middle;\n",
       "    }\n",
       "\n",
       "    .dataframe tbody tr th {\n",
       "        vertical-align: top;\n",
       "    }\n",
       "\n",
       "    .dataframe thead th {\n",
       "        text-align: right;\n",
       "    }\n",
       "</style>\n",
       "<table border=\"1\" class=\"dataframe\">\n",
       "  <thead>\n",
       "    <tr style=\"text-align: right;\">\n",
       "      <th></th>\n",
       "      <th>total_bill</th>\n",
       "      <th>tip</th>\n",
       "      <th>size</th>\n",
       "    </tr>\n",
       "  </thead>\n",
       "  <tbody>\n",
       "    <tr>\n",
       "      <th>total_bill</th>\n",
       "      <td>1.000000</td>\n",
       "      <td>0.675734</td>\n",
       "      <td>0.598315</td>\n",
       "    </tr>\n",
       "    <tr>\n",
       "      <th>tip</th>\n",
       "      <td>0.675734</td>\n",
       "      <td>1.000000</td>\n",
       "      <td>0.489299</td>\n",
       "    </tr>\n",
       "    <tr>\n",
       "      <th>size</th>\n",
       "      <td>0.598315</td>\n",
       "      <td>0.489299</td>\n",
       "      <td>1.000000</td>\n",
       "    </tr>\n",
       "  </tbody>\n",
       "</table>\n",
       "</div>"
      ],
      "text/plain": [
       "            total_bill       tip      size\n",
       "total_bill    1.000000  0.675734  0.598315\n",
       "tip           0.675734  1.000000  0.489299\n",
       "size          0.598315  0.489299  1.000000"
      ]
     },
     "execution_count": 21,
     "metadata": {},
     "output_type": "execute_result"
    }
   ],
   "source": [
    "tips.corr()"
   ]
  },
  {
   "cell_type": "markdown",
   "id": "190654c7",
   "metadata": {},
   "source": [
    "# Q11. What is the formula for calculating the sample mean? Provide an example calculation for a dataset."
   ]
  },
  {
   "cell_type": "markdown",
   "id": "d26e2ae2",
   "metadata": {},
   "source": [
    "# (x^-)=sumition of( i=1 to n) xi /n"
   ]
  },
  {
   "cell_type": "code",
   "execution_count": 24,
   "id": "2837291e",
   "metadata": {},
   "outputs": [
    {
     "name": "stderr",
     "output_type": "stream",
     "text": [
      "C:\\Users\\himan\\AppData\\Local\\Temp\\ipykernel_17220\\618375813.py:1: FutureWarning: The default value of numeric_only in DataFrame.mean is deprecated. In a future version, it will default to False. In addition, specifying 'numeric_only=None' is deprecated. Select only valid columns or specify the value of numeric_only to silence this warning.\n",
      "  tips.mean()\n"
     ]
    },
    {
     "data": {
      "text/plain": [
       "total_bill    19.785943\n",
       "tip            2.998279\n",
       "size           2.569672\n",
       "dtype: float64"
      ]
     },
     "execution_count": 24,
     "metadata": {},
     "output_type": "execute_result"
    }
   ],
   "source": [
    "tips.mean()"
   ]
  },
  {
   "cell_type": "markdown",
   "id": "fceb24e5",
   "metadata": {},
   "source": [
    "# Q12. For a normal distribution data what is the relationship between its measure of central tendency?"
   ]
  },
  {
   "cell_type": "markdown",
   "id": "96662d4e",
   "metadata": {},
   "source": [
    "# data is normal distribution so the relation-ship mean median is perfactly  equal \n",
    "# mean=median =mode"
   ]
  },
  {
   "cell_type": "markdown",
   "id": "5111c240",
   "metadata": {},
   "source": [
    "# Q14. How do outliers affect measures of central tendency and dispersion? Provide an example."
   ]
  },
  {
   "cell_type": "markdown",
   "id": "e09d54e1",
   "metadata": {},
   "source": [
    "# ans.. the given data is the outliers so the affect the mean  so the hendal the this type cechvation used to meadian"
   ]
  },
  {
   "cell_type": "code",
   "execution_count": 25,
   "id": "2c13ae36",
   "metadata": {},
   "outputs": [],
   "source": [
    "A=[1,2,3,4,5,6,7,8,912]"
   ]
  },
  {
   "cell_type": "code",
   "execution_count": 28,
   "id": "eb1865cb",
   "metadata": {},
   "outputs": [],
   "source": [
    "A1=[1,2,3,4,5,6,7,8]"
   ]
  },
  {
   "cell_type": "markdown",
   "id": "2c1f74d8",
   "metadata": {},
   "source": [
    "# the given data 912 is the outliers  "
   ]
  },
  {
   "cell_type": "code",
   "execution_count": 26,
   "id": "86b4cbcc",
   "metadata": {},
   "outputs": [
    {
     "data": {
      "text/plain": [
       "105.33333333333333"
      ]
     },
     "execution_count": 26,
     "metadata": {},
     "output_type": "execute_result"
    }
   ],
   "source": [
    "np.mean(A)"
   ]
  },
  {
   "cell_type": "code",
   "execution_count": 29,
   "id": "392d7937",
   "metadata": {},
   "outputs": [
    {
     "data": {
      "text/plain": [
       "4.5"
      ]
     },
     "execution_count": 29,
     "metadata": {},
     "output_type": "execute_result"
    }
   ],
   "source": [
    "np.mean(A1)"
   ]
  },
  {
   "cell_type": "code",
   "execution_count": 30,
   "id": "cb475b32",
   "metadata": {},
   "outputs": [
    {
     "data": {
      "text/plain": [
       "4.5"
      ]
     },
     "execution_count": 30,
     "metadata": {},
     "output_type": "execute_result"
    }
   ],
   "source": [
    "np.median(A)"
   ]
  },
  {
   "cell_type": "code",
   "execution_count": 31,
   "id": "f10bf471",
   "metadata": {},
   "outputs": [
    {
     "data": {
      "text/plain": [
       "4.5"
      ]
     },
     "execution_count": 31,
     "metadata": {},
     "output_type": "execute_result"
    }
   ],
   "source": [
    "np.median(A1)"
   ]
  },
  {
   "cell_type": "code",
   "execution_count": null,
   "id": "eb5e92c5",
   "metadata": {},
   "outputs": [],
   "source": []
  }
 ],
 "metadata": {
  "kernelspec": {
   "display_name": "Python 3 (ipykernel)",
   "language": "python",
   "name": "python3"
  },
  "language_info": {
   "codemirror_mode": {
    "name": "ipython",
    "version": 3
   },
   "file_extension": ".py",
   "mimetype": "text/x-python",
   "name": "python",
   "nbconvert_exporter": "python",
   "pygments_lexer": "ipython3",
   "version": "3.10.9"
  }
 },
 "nbformat": 4,
 "nbformat_minor": 5
}
